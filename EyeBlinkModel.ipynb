{
  "nbformat": 4,
  "nbformat_minor": 0,
  "metadata": {
    "colab": {
      "private_outputs": true,
      "provenance": [],
      "gpuType": "T4",
      "cell_execution_strategy": "setup",
      "authorship_tag": "ABX9TyO7OV1dioVia9YyUYCkN9Ng",
      "include_colab_link": true
    },
    "kernelspec": {
      "name": "python3",
      "display_name": "Python 3"
    },
    "language_info": {
      "name": "python"
    },
    "accelerator": "GPU"
  },
  "cells": [
    {
      "cell_type": "markdown",
      "metadata": {
        "id": "view-in-github",
        "colab_type": "text"
      },
      "source": [
        "<a href=\"https://colab.research.google.com/github/pacifist2301/ChatWall/blob/master/EyeBlinkModel.ipynb\" target=\"_parent\"><img src=\"https://colab.research.google.com/assets/colab-badge.svg\" alt=\"Open In Colab\"/></a>"
      ]
    },
    {
      "cell_type": "code",
      "execution_count": null,
      "metadata": {
        "id": "6HoNW4jEcnPr"
      },
      "outputs": [],
      "source": [
        "!unzip researchdataset1.zip"
      ]
    },
    {
      "cell_type": "code",
      "source": [
        "import tensorflow as tf\n",
        "train_dir ='train'\n",
        "test_dir  ='test'"
      ],
      "metadata": {
        "id": "hS7WdpYmdUtp"
      },
      "execution_count": null,
      "outputs": []
    },
    {
      "cell_type": "code",
      "source": [
        "width, height = 86, 86\n",
        "training=tf.keras.preprocessing.image.ImageDataGenerator(rescale=1/255.0,\n",
        "                                                          rotation_range=7,\n",
        "                                                          horizontal_flip=True,\n",
        "                                                          validation_split=0.05\n",
        "                                                         ).flow_from_directory(train_dir,\n",
        "                                                                               class_mode = 'categorical',\n",
        "                                                                               batch_size = 8,\n",
        "                                                           target_size=(width,height),\n",
        "                                                                              subset=\"training\")\n",
        "testing=tf.keras.preprocessing.image.ImageDataGenerator(rescale=1/255.0,\n",
        "                                                         ).flow_from_directory(test_dir,\n",
        "                                                                               class_mode = 'categorical',\n",
        "                                                                               batch_size = 8,\n",
        "                                                                               shuffle = False,\n",
        "                                                           target_size=(width,height))\n",
        "validing=tf.keras.preprocessing.image.ImageDataGenerator(rescale=1/255.0,\n",
        "                                                          rotation_range=7,\n",
        "                                                          horizontal_flip=True,\n",
        "                                                         validation_split=0.05\n",
        "                                                        ).flow_from_directory(train_dir,\n",
        "                                                                              batch_size = 8,\n",
        "                                                                              class_mode = 'categorical',\n",
        "                                                           target_size=(width,height),subset='validation',shuffle=True)"
      ],
      "metadata": {
        "id": "V0RzHZ3NdUvn"
      },
      "execution_count": null,
      "outputs": []
    },
    {
      "cell_type": "code",
      "source": [
        "from keras.models import Sequential ,Model\n",
        "from keras.layers import Dense ,Flatten ,Conv2D ,MaxPooling2D ,Dropout ,BatchNormalization  ,Activation ,GlobalMaxPooling2D\n",
        "from keras.optimizers import Adam\n",
        "from keras.callbacks import EarlyStopping ,ReduceLROnPlateau"
      ],
      "metadata": {
        "id": "gWoILOOadUzI"
      },
      "execution_count": null,
      "outputs": []
    },
    {
      "cell_type": "code",
      "source": [
        "optimizer=Adam(learning_rate=0.001,beta_1=0.9,beta_2=0.99)\n",
        "EarlyStop=EarlyStopping(monitor='val_accuracy',patience=10,restore_best_weights=False)\n",
        "#Reduce_LR=ReduceLROnPlateau(monitor='val_accuracy',verbose=2,factor=0.5,min_lr=0.00001)\n",
        "callback=[EarlyStop]"
      ],
      "metadata": {
        "id": "Utfx3D2kdU8V"
      },
      "execution_count": null,
      "outputs": []
    },
    {
      "cell_type": "code",
      "source": [
        "num_classes = 2\n",
        "#num_detectors=32\n",
        "\n",
        "network = Sequential()\n",
        "\n",
        "network.add(Conv2D(128,(3,3), activation='relu', padding = 'same', input_shape = (86, 86, 3)))\n",
        "network.add(BatchNormalization())\n",
        "network.add(MaxPooling2D(pool_size=(2,2)))\n",
        "network.add(Dropout(0.4))\n",
        "\n",
        "network.add(Conv2D(128,(3,3), activation='relu', padding = 'same'))\n",
        "network.add(BatchNormalization())\n",
        "network.add(MaxPooling2D(pool_size=(2,2)))\n",
        "network.add(Dropout(0.3))\n",
        "\n",
        "network.add(Flatten())\n",
        "\n",
        "network.add(Dense(64, activation='relu'))\n",
        "network.add(Dropout(0.2))\n",
        "\n",
        "network.add(Dense(2, activation='softmax'))"
      ],
      "metadata": {
        "id": "kqUUXbz2dU-Q"
      },
      "execution_count": null,
      "outputs": []
    },
    {
      "cell_type": "code",
      "source": [
        "network.summary()"
      ],
      "metadata": {
        "id": "hRNblb_SdVBf"
      },
      "execution_count": null,
      "outputs": []
    },
    {
      "cell_type": "code",
      "source": [
        "network.compile(optimizer='adam',loss='categorical_crossentropy', metrics=[\"accuracy\"])"
      ],
      "metadata": {
        "id": "QttPZZkzdVDf"
      },
      "execution_count": null,
      "outputs": []
    },
    {
      "cell_type": "code",
      "source": [
        "history=network.fit(training,validation_data=validing,epochs=10, callbacks=callback, verbose='auto')"
      ],
      "metadata": {
        "id": "0_LW1fiodVGo"
      },
      "execution_count": null,
      "outputs": []
    },
    {
      "cell_type": "code",
      "source": [
        "val,los=network.evaluate(testing)"
      ],
      "metadata": {
        "id": "TBCEwUsbdVIa"
      },
      "execution_count": null,
      "outputs": []
    },
    {
      "cell_type": "code",
      "source": [
        "import matplotlib.pyplot as plt\n",
        "\n",
        "metrics = history.history\n",
        "plt.plot(history.epoch, metrics['loss'])\n",
        "plt.legend(['loss'])\n",
        "plt.show()"
      ],
      "metadata": {
        "id": "NIzBBtAzdVL5"
      },
      "execution_count": null,
      "outputs": []
    },
    {
      "cell_type": "code",
      "source": [
        "network.save('finaleyemodel.h5')"
      ],
      "metadata": {
        "id": "riH8AqkWdVN1"
      },
      "execution_count": null,
      "outputs": []
    },
    {
      "cell_type": "code",
      "source": [
        "from keras.models import load_model"
      ],
      "metadata": {
        "id": "0x5v2MqPdVQ9"
      },
      "execution_count": null,
      "outputs": []
    },
    {
      "cell_type": "code",
      "source": [
        "model = load_model('finaleyemodel.h5')"
      ],
      "metadata": {
        "id": "AsptQHQYdVSt"
      },
      "execution_count": null,
      "outputs": []
    },
    {
      "cell_type": "code",
      "source": [
        "filenames = testing.filenames\n",
        "true_labels = testing.classes"
      ],
      "metadata": {
        "id": "ey4f-AKfdVWW"
      },
      "execution_count": null,
      "outputs": []
    },
    {
      "cell_type": "code",
      "source": [
        "predicted_labels = []\n",
        "predicted_probabilities = []"
      ],
      "metadata": {
        "id": "5hmrepHvdVYw"
      },
      "execution_count": null,
      "outputs": []
    },
    {
      "cell_type": "code",
      "source": [
        "import os\n",
        "import numpy as np\n",
        "for i in range(len(filenames)):\n",
        "    # Load and preprocess the image\n",
        "    img_path = os.path.join(test_dir, filenames[i])\n",
        "    img = tf.keras.preprocessing.image.load_img(img_path, target_size=(width, height))\n",
        "    img_array = tf.keras.preprocessing.image.img_to_array(img)\n",
        "    img_array = tf.expand_dims(img_array, axis=0)\n",
        "    img_array /= 255.0  # Normalize the image\n",
        "\n",
        "    # Predict the class label\n",
        "    predictions = model.predict(img_array)\n",
        "    predicted_label = np.argmax(predictions)\n",
        "\n",
        "    # Append the predicted label and probabilities\n",
        "    predicted_labels.append(predicted_label)\n",
        "    predicted_probabilities.append(predictions)"
      ],
      "metadata": {
        "id": "oBLgThTPdVcB"
      },
      "execution_count": null,
      "outputs": []
    },
    {
      "cell_type": "code",
      "source": [
        "from sklearn.metrics import accuracy_score, classification_report, confusion_matrix\n",
        "predicted_labels = np.array(predicted_labels)\n",
        "predicted_probabilities = np.array(predicted_probabilities)\n",
        "\n",
        "# Calculate accuracy\n",
        "accuracy = accuracy_score(true_labels, predicted_labels)\n",
        "print(f'Accuracy: {accuracy:.2f}')\n",
        "\n",
        "# Generate a classification report\n",
        "report = classification_report(true_labels, predicted_labels)\n",
        "print(f'Classification Report:\\n{report}')\n",
        "\n",
        "# Create a confusion matrix\n",
        "confusion = confusion_matrix(true_labels, predicted_labels)\n",
        "print(f'Confusion Matrix:\\n{confusion}')\n",
        "\n",
        "# Display images with true and predicted labels\n",
        "for i in range(len(filenames)):\n",
        "    img_path = os.path.join(test_dir, filenames[i])\n",
        "    img = tf.keras.preprocessing.image.load_img(img_path, target_size=(width, height))\n",
        "\n",
        "    true_class_name = 'closed-eye' if true_labels[i] == 0 else 'open-eye'\n",
        "    predicted_class_name = 'closed-eye' if predicted_labels[i] == 0 else 'open-eye'\n",
        "\n",
        "    plt.figure()\n",
        "    plt.imshow(img)\n",
        "    plt.title(f'True: {true_class_name}, Predicted: {predicted_class_name}')\n",
        "    plt.axis('off')\n",
        "    plt.show()"
      ],
      "metadata": {
        "id": "-JJLqeKrg7yU"
      },
      "execution_count": null,
      "outputs": []
    },
    {
      "cell_type": "code",
      "source": [],
      "metadata": {
        "id": "ovBagTGshDv5"
      },
      "execution_count": null,
      "outputs": []
    }
  ]
}